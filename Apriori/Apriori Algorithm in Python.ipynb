{
 "cells": [
  {
   "cell_type": "markdown",
   "id": "e99f9576",
   "metadata": {},
   "source": [
    "### Apriori Algorithm in python "
   ]
  },
  {
   "cell_type": "markdown",
   "id": "10ac4a55",
   "metadata": {},
   "source": [
    "#### Importing the libraries "
   ]
  },
  {
   "cell_type": "code",
   "execution_count": 1,
   "id": "6fe5c126",
   "metadata": {},
   "outputs": [
    {
     "name": "stdout",
     "output_type": "stream",
     "text": [
      "Collecting apyori\n",
      "  Downloading apyori-1.1.2.tar.gz (8.6 kB)\n",
      "Building wheels for collected packages: apyori\n",
      "  Building wheel for apyori (setup.py): started\n",
      "  Building wheel for apyori (setup.py): finished with status 'done'\n",
      "  Created wheel for apyori: filename=apyori-1.1.2-py3-none-any.whl size=5975 sha256=f7cd92656dd947e119b641fa6fb156503f9464f160e19c2d90373f0cd5ef8173\n",
      "  Stored in directory: c:\\users\\ashish\\appdata\\local\\pip\\cache\\wheels\\1b\\02\\6c\\a45230be8603bd95c0a51cd2b289aefdd860c1a100eab73661\n",
      "Successfully built apyori\n",
      "Installing collected packages: apyori\n",
      "Successfully installed apyori-1.1.2\n"
     ]
    }
   ],
   "source": [
    "# !pip install apyori"
   ]
  },
  {
   "cell_type": "code",
   "execution_count": 2,
   "id": "ddc1c77e",
   "metadata": {},
   "outputs": [],
   "source": [
    "import pandas as pd\n",
    "import numpy as np\n",
    "import matplotlib.pyplot as plt"
   ]
  },
  {
   "cell_type": "markdown",
   "id": "719f85cc",
   "metadata": {},
   "source": [
    "#### Data Preprocessing "
   ]
  },
  {
   "cell_type": "code",
   "execution_count": 6,
   "id": "ad6cc2ea",
   "metadata": {},
   "outputs": [
    {
     "data": {
      "text/plain": [
       "array([['shrimp', 'almonds', 'avocado', ..., 'frozen smoothie',\n",
       "        'spinach', 'olive oil'],\n",
       "       ['burgers', 'meatballs', 'eggs', ..., nan, nan, nan],\n",
       "       ['chutney', nan, nan, ..., nan, nan, nan],\n",
       "       ...,\n",
       "       ['chicken', nan, nan, ..., nan, nan, nan],\n",
       "       ['escalope', 'green tea', nan, ..., nan, nan, nan],\n",
       "       ['eggs', 'frozen smoothie', 'yogurt cake', ..., nan, nan, nan]],\n",
       "      dtype=object)"
      ]
     },
     "execution_count": 6,
     "metadata": {},
     "output_type": "execute_result"
    }
   ],
   "source": [
    "dataset=pd.read_csv(r'C:\\Users\\Ashish\\Desktop\\Assosciation Rule Learning\\Apriori\\Market_Basket_Optimisation.csv',header=None)\n",
    "dataset.values"
   ]
  },
  {
   "cell_type": "code",
   "execution_count": 9,
   "id": "5e4e9d7c",
   "metadata": {},
   "outputs": [],
   "source": [
    "transactions = []\n",
    "for i in range(0,len(dataset)):\n",
    "    l=[]\n",
    "    for j in range(0,20):\n",
    "        l.append(str(dataset.values[i,j]))\n",
    "    transactions.append(l)"
   ]
  },
  {
   "cell_type": "markdown",
   "id": "c8b9c4ad",
   "metadata": {},
   "source": [
    "#### Training the Apriori model on the dataset"
   ]
  },
  {
   "cell_type": "code",
   "execution_count": 12,
   "id": "3d93d834",
   "metadata": {},
   "outputs": [],
   "source": [
    "from apyori import apriori\n",
    "rules = apriori(transactions=transactions,min_support=0.003,min_confidence=0.2,min_life=3,min_length=2,max_length=2)"
   ]
  },
  {
   "cell_type": "markdown",
   "id": "2dee6b17",
   "metadata": {},
   "source": [
    "#### Visualising the results"
   ]
  },
  {
   "cell_type": "code",
   "execution_count": null,
   "id": "f7a653b9",
   "metadata": {},
   "outputs": [],
   "source": []
  },
  {
   "cell_type": "markdown",
   "id": "b1f7a5e8",
   "metadata": {},
   "source": [
    "#### Displaying the results coming Directly from the output of the apriori function"
   ]
  },
  {
   "cell_type": "code",
   "execution_count": null,
   "id": "579b9d23",
   "metadata": {},
   "outputs": [],
   "source": []
  },
  {
   "cell_type": "markdown",
   "id": "7d79fefb",
   "metadata": {},
   "source": [
    "#### Putting the results well organissed into a Pandas DataFrame"
   ]
  },
  {
   "cell_type": "code",
   "execution_count": null,
   "id": "b3cebf7d",
   "metadata": {},
   "outputs": [],
   "source": []
  },
  {
   "cell_type": "markdown",
   "id": "1daf085e",
   "metadata": {},
   "source": [
    "#### Displaying the results non sorted "
   ]
  },
  {
   "cell_type": "code",
   "execution_count": null,
   "id": "a7f99687",
   "metadata": {},
   "outputs": [],
   "source": []
  },
  {
   "cell_type": "markdown",
   "id": "1be36e80",
   "metadata": {},
   "source": []
  }
 ],
 "metadata": {
  "kernelspec": {
   "display_name": "Python 3",
   "language": "python",
   "name": "python3"
  },
  "language_info": {
   "codemirror_mode": {
    "name": "ipython",
    "version": 3
   },
   "file_extension": ".py",
   "mimetype": "text/x-python",
   "name": "python",
   "nbconvert_exporter": "python",
   "pygments_lexer": "ipython3",
   "version": "3.8.8"
  }
 },
 "nbformat": 4,
 "nbformat_minor": 5
}
